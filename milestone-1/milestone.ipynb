{
 "cells": [
  {
   "cell_type": "markdown",
   "metadata": {},
   "source": [
    "# Milestone 1 \n",
    "\n",
    "## Dataset\n",
    "International football results from 1972 to 2022. consists of two csv files, `results.csv` and `shootouts.csv`\n",
    "\n",
    "### About the dataset\n",
    "This dataset includes `43,751` results of international football matches starting from the very first official match in 1972 up to 2022. The matches range from FIFA World Cup to FIFI Wild Cup to regular friendly matches.\n",
    "\n",
    " ### Dataset columns \n",
    "\n",
    " `results.csv`\n",
    "\n",
    " | date | home_team | away_team | home_score | away_score | tournament | city | country | neutral |\n",
    "| --- | --- | --- | --- | --- | --- | --- | --- | --- |\n",
    "| Date of the match  | Name of the home team | Name of the away team | Full-time home team score including extra time, not including penalty-shootouts | full-time away team score including extra time, not including penalty-shootouts | Name of the tournament | Name of the city/town/administrative unit where the match was played | Name of the country where the match was played | Column indicating whether the match was played at a neutral venue |\n",
    "| `yyyy-mm-dd` format date | string | string | number | number | string | string | string | TRUE or FALSE |\n",
    "| `quantitative/discrete`|`qualitative/nominal`| `qualitative/nominal`| `quantitative/discrete` | `quantitative/discrete` | `qualitative/nominal` | `qualitative/nominal` | `qualitative/nominal` | `qualitative/nominal` |\n",
    "\n",
    "\n",
    "`shootouts.csv`\n",
    "\n",
    "| date | home_team | away team | winner |\n",
    "| --- | --- | --- | --- |\n",
    "| Date of the match | Name of the home team | Name of the away team | winner of the penalty-shootout |\n",
    "| string | string | string | string |\n",
    "| `qualitative/nominal` | `qualitative/nominal` | `qualitative/nominal` | `qualitative/nominal`|\n",
    "\n",
    "\n",
    "## Posible missing values\n",
    "- **Goals**: would give us more insights about the players, who are the top scorers in some competitions, which players are more or less suitable to score certain teams, also would give us insights about the minutes where is more possible that a goal occurs in a match with certain teams.\n",
    "- **Continent**: would give us some insights if a team is more propense to win or lose playing in some continents or in the next world cup.\n",
    "  \n",
    "\n"
   ]
  },
  {
   "cell_type": "markdown",
   "metadata": {},
   "source": [
    "## Lets start"
   ]
  },
  {
   "cell_type": "markdown",
   "metadata": {},
   "source": [
    "### Inporting libraries"
   ]
  },
  {
   "cell_type": "code",
   "execution_count": 93,
   "metadata": {},
   "outputs": [],
   "source": [
    "import pandas \n",
    "import numpy \n",
    "import matplotlib.pyplot as plot\n",
    "import seaborn \n",
    "import random"
   ]
  },
  {
   "cell_type": "markdown",
   "metadata": {},
   "source": [
    "### Load datasets"
   ]
  },
  {
   "cell_type": "code",
   "execution_count": 94,
   "metadata": {},
   "outputs": [],
   "source": [
    "results = pandas.read_csv('results.csv')\n",
    "results['total_score'] = results[\"away_score\"] + results['home_score']\n",
    "shootouts = pandas.read_csv('shootouts.csv')"
   ]
  },
  {
   "cell_type": "code",
   "execution_count": 95,
   "metadata": {},
   "outputs": [
    {
     "data": {
      "text/html": [
       "<div>\n",
       "<style scoped>\n",
       "    .dataframe tbody tr th:only-of-type {\n",
       "        vertical-align: middle;\n",
       "    }\n",
       "\n",
       "    .dataframe tbody tr th {\n",
       "        vertical-align: top;\n",
       "    }\n",
       "\n",
       "    .dataframe thead th {\n",
       "        text-align: right;\n",
       "    }\n",
       "</style>\n",
       "<table border=\"1\" class=\"dataframe\">\n",
       "  <thead>\n",
       "    <tr style=\"text-align: right;\">\n",
       "      <th></th>\n",
       "      <th>date</th>\n",
       "      <th>home_team</th>\n",
       "      <th>away_team</th>\n",
       "      <th>home_score</th>\n",
       "      <th>away_score</th>\n",
       "      <th>tournament</th>\n",
       "      <th>city</th>\n",
       "      <th>country</th>\n",
       "      <th>neutral</th>\n",
       "      <th>total_score</th>\n",
       "    </tr>\n",
       "  </thead>\n",
       "  <tbody>\n",
       "    <tr>\n",
       "      <th>1370</th>\n",
       "      <td>1931-03-05</td>\n",
       "      <td>Guyana</td>\n",
       "      <td>Trinidad and Tobago</td>\n",
       "      <td>2</td>\n",
       "      <td>1</td>\n",
       "      <td>Friendly</td>\n",
       "      <td>Georgetown</td>\n",
       "      <td>British Guyana</td>\n",
       "      <td>False</td>\n",
       "      <td>3</td>\n",
       "    </tr>\n",
       "    <tr>\n",
       "      <th>10676</th>\n",
       "      <td>1978-03-22</td>\n",
       "      <td>Turkey</td>\n",
       "      <td>Romania</td>\n",
       "      <td>1</td>\n",
       "      <td>1</td>\n",
       "      <td>Balkan Cup</td>\n",
       "      <td>Istanbul</td>\n",
       "      <td>Turkey</td>\n",
       "      <td>False</td>\n",
       "      <td>2</td>\n",
       "    </tr>\n",
       "    <tr>\n",
       "      <th>31</th>\n",
       "      <td>1884-02-23</td>\n",
       "      <td>Northern Ireland</td>\n",
       "      <td>England</td>\n",
       "      <td>1</td>\n",
       "      <td>8</td>\n",
       "      <td>British Championship</td>\n",
       "      <td>Belfast</td>\n",
       "      <td>Ireland</td>\n",
       "      <td>False</td>\n",
       "      <td>9</td>\n",
       "    </tr>\n",
       "    <tr>\n",
       "      <th>32200</th>\n",
       "      <td>2010-01-02</td>\n",
       "      <td>Syria</td>\n",
       "      <td>Zimbabwe</td>\n",
       "      <td>6</td>\n",
       "      <td>0</td>\n",
       "      <td>Friendly</td>\n",
       "      <td>Kuala Lumpur</td>\n",
       "      <td>Malaysia</td>\n",
       "      <td>True</td>\n",
       "      <td>6</td>\n",
       "    </tr>\n",
       "    <tr>\n",
       "      <th>24552</th>\n",
       "      <td>2001-08-15</td>\n",
       "      <td>Ecuador</td>\n",
       "      <td>Argentina</td>\n",
       "      <td>0</td>\n",
       "      <td>2</td>\n",
       "      <td>FIFA World Cup qualification</td>\n",
       "      <td>Quito</td>\n",
       "      <td>Ecuador</td>\n",
       "      <td>False</td>\n",
       "      <td>2</td>\n",
       "    </tr>\n",
       "  </tbody>\n",
       "</table>\n",
       "</div>"
      ],
      "text/plain": [
       "             date         home_team            away_team  home_score  \\\n",
       "1370   1931-03-05            Guyana  Trinidad and Tobago           2   \n",
       "10676  1978-03-22            Turkey              Romania           1   \n",
       "31     1884-02-23  Northern Ireland              England           1   \n",
       "32200  2010-01-02             Syria             Zimbabwe           6   \n",
       "24552  2001-08-15           Ecuador            Argentina           0   \n",
       "\n",
       "       away_score                    tournament          city         country  \\\n",
       "1370            1                      Friendly    Georgetown  British Guyana   \n",
       "10676           1                    Balkan Cup      Istanbul          Turkey   \n",
       "31              8          British Championship       Belfast         Ireland   \n",
       "32200           0                      Friendly  Kuala Lumpur        Malaysia   \n",
       "24552           2  FIFA World Cup qualification         Quito         Ecuador   \n",
       "\n",
       "       neutral  total_score  \n",
       "1370     False            3  \n",
       "10676    False            2  \n",
       "31       False            9  \n",
       "32200     True            6  \n",
       "24552    False            2  "
      ]
     },
     "execution_count": 95,
     "metadata": {},
     "output_type": "execute_result"
    }
   ],
   "source": [
    "results.sample(5)"
   ]
  },
  {
   "cell_type": "code",
   "execution_count": 96,
   "metadata": {},
   "outputs": [
    {
     "data": {
      "text/html": [
       "<div>\n",
       "<style scoped>\n",
       "    .dataframe tbody tr th:only-of-type {\n",
       "        vertical-align: middle;\n",
       "    }\n",
       "\n",
       "    .dataframe tbody tr th {\n",
       "        vertical-align: top;\n",
       "    }\n",
       "\n",
       "    .dataframe thead th {\n",
       "        text-align: right;\n",
       "    }\n",
       "</style>\n",
       "<table border=\"1\" class=\"dataframe\">\n",
       "  <thead>\n",
       "    <tr style=\"text-align: right;\">\n",
       "      <th></th>\n",
       "      <th>date</th>\n",
       "      <th>home_team</th>\n",
       "      <th>away_team</th>\n",
       "      <th>winner</th>\n",
       "    </tr>\n",
       "  </thead>\n",
       "  <tbody>\n",
       "    <tr>\n",
       "      <th>340</th>\n",
       "      <td>2006-02-28</td>\n",
       "      <td>Finland</td>\n",
       "      <td>Kazakhstan</td>\n",
       "      <td>Kazakhstan</td>\n",
       "    </tr>\n",
       "    <tr>\n",
       "      <th>409</th>\n",
       "      <td>2015-07-04</td>\n",
       "      <td>Chile</td>\n",
       "      <td>Argentina</td>\n",
       "      <td>Chile</td>\n",
       "    </tr>\n",
       "    <tr>\n",
       "      <th>266</th>\n",
       "      <td>2002-01-30</td>\n",
       "      <td>United States</td>\n",
       "      <td>Canada</td>\n",
       "      <td>United States</td>\n",
       "    </tr>\n",
       "    <tr>\n",
       "      <th>338</th>\n",
       "      <td>2006-02-04</td>\n",
       "      <td>Cameroon</td>\n",
       "      <td>Ivory Coast</td>\n",
       "      <td>Ivory Coast</td>\n",
       "    </tr>\n",
       "    <tr>\n",
       "      <th>66</th>\n",
       "      <td>1984-07-15</td>\n",
       "      <td>Senegal</td>\n",
       "      <td>Angola</td>\n",
       "      <td>Angola</td>\n",
       "    </tr>\n",
       "  </tbody>\n",
       "</table>\n",
       "</div>"
      ],
      "text/plain": [
       "           date      home_team    away_team         winner\n",
       "340  2006-02-28        Finland   Kazakhstan     Kazakhstan\n",
       "409  2015-07-04          Chile    Argentina          Chile\n",
       "266  2002-01-30  United States       Canada  United States\n",
       "338  2006-02-04       Cameroon  Ivory Coast    Ivory Coast\n",
       "66   1984-07-15        Senegal       Angola         Angola"
      ]
     },
     "execution_count": 96,
     "metadata": {},
     "output_type": "execute_result"
    }
   ],
   "source": [
    "shootouts.sample(5)"
   ]
  },
  {
   "cell_type": "markdown",
   "metadata": {},
   "source": [
    "### Dimentions of the data"
   ]
  },
  {
   "cell_type": "code",
   "execution_count": 97,
   "metadata": {},
   "outputs": [
    {
     "name": "stdout",
     "output_type": "stream",
     "text": [
      "Results: 43919 Rows, 10 Columns\n",
      "Shootouts: 503 Rows, 4 Columns\n"
     ]
    }
   ],
   "source": [
    "print(f'Results: {results.shape[0]} Rows, {results.shape[1]} Columns')\n",
    "print(f'Shootouts: {shootouts.shape[0]} Rows, {shootouts.shape[1]} Columns')\n",
    "\n"
   ]
  },
  {
   "cell_type": "markdown",
   "metadata": {},
   "source": [
    "### Data types available "
   ]
  },
  {
   "cell_type": "markdown",
   "metadata": {},
   "source": [
    "#### Results:"
   ]
  },
  {
   "cell_type": "code",
   "execution_count": 98,
   "metadata": {},
   "outputs": [
    {
     "name": "stdout",
     "output_type": "stream",
     "text": [
      "<class 'pandas.core.frame.DataFrame'>\n",
      "RangeIndex: 43919 entries, 0 to 43918\n",
      "Data columns (total 10 columns):\n",
      " #   Column       Non-Null Count  Dtype \n",
      "---  ------       --------------  ----- \n",
      " 0   date         43919 non-null  object\n",
      " 1   home_team    43919 non-null  object\n",
      " 2   away_team    43919 non-null  object\n",
      " 3   home_score   43919 non-null  int64 \n",
      " 4   away_score   43919 non-null  int64 \n",
      " 5   tournament   43919 non-null  object\n",
      " 6   city         43919 non-null  object\n",
      " 7   country      43919 non-null  object\n",
      " 8   neutral      43919 non-null  bool  \n",
      " 9   total_score  43919 non-null  int64 \n",
      "dtypes: bool(1), int64(3), object(6)\n",
      "memory usage: 3.1+ MB\n"
     ]
    }
   ],
   "source": [
    "results.info()"
   ]
  },
  {
   "cell_type": "markdown",
   "metadata": {},
   "source": [
    "#### Shootouts"
   ]
  },
  {
   "cell_type": "code",
   "execution_count": 99,
   "metadata": {},
   "outputs": [
    {
     "name": "stdout",
     "output_type": "stream",
     "text": [
      "<class 'pandas.core.frame.DataFrame'>\n",
      "RangeIndex: 503 entries, 0 to 502\n",
      "Data columns (total 4 columns):\n",
      " #   Column     Non-Null Count  Dtype \n",
      "---  ------     --------------  ----- \n",
      " 0   date       503 non-null    object\n",
      " 1   home_team  503 non-null    object\n",
      " 2   away_team  503 non-null    object\n",
      " 3   winner     503 non-null    object\n",
      "dtypes: object(4)\n",
      "memory usage: 15.8+ KB\n"
     ]
    }
   ],
   "source": [
    "shootouts.info()"
   ]
  },
  {
   "cell_type": "markdown",
   "metadata": {},
   "source": [
    "### Misssing values, duplicate entries, and outliners"
   ]
  },
  {
   "cell_type": "markdown",
   "metadata": {},
   "source": [
    "##### Missing values"
   ]
  },
  {
   "cell_type": "code",
   "execution_count": 100,
   "metadata": {},
   "outputs": [
    {
     "data": {
      "text/plain": [
       "date           0\n",
       "home_team      0\n",
       "away_team      0\n",
       "home_score     0\n",
       "away_score     0\n",
       "tournament     0\n",
       "city           0\n",
       "country        0\n",
       "neutral        0\n",
       "total_score    0\n",
       "dtype: int64"
      ]
     },
     "execution_count": 100,
     "metadata": {},
     "output_type": "execute_result"
    }
   ],
   "source": [
    "results.isna().sum()"
   ]
  },
  {
   "cell_type": "code",
   "execution_count": 101,
   "metadata": {},
   "outputs": [
    {
     "data": {
      "text/plain": [
       "date         0\n",
       "home_team    0\n",
       "away_team    0\n",
       "winner       0\n",
       "dtype: int64"
      ]
     },
     "execution_count": 101,
     "metadata": {},
     "output_type": "execute_result"
    }
   ],
   "source": [
    "shootouts.isna().sum()"
   ]
  },
  {
   "cell_type": "markdown",
   "metadata": {},
   "source": [
    "##### Duplicated entries"
   ]
  },
  {
   "cell_type": "code",
   "execution_count": 102,
   "metadata": {},
   "outputs": [
    {
     "name": "stdout",
     "output_type": "stream",
     "text": [
      "Results duplicated entries: 0\n",
      "Shootouts duplicated entries: 0\n"
     ]
    }
   ],
   "source": [
    "print(f'Results duplicated entries: {results.duplicated().sum()}')\n",
    "print(f'Shootouts duplicated entries: {shootouts.duplicated().sum()}')"
   ]
  },
  {
   "cell_type": "markdown",
   "metadata": {},
   "source": [
    "### Outliers - most common and uncommon results"
   ]
  },
  {
   "cell_type": "code",
   "execution_count": 103,
   "metadata": {},
   "outputs": [
    {
     "data": {
      "text/plain": [
       "<seaborn.axisgrid.FacetGrid at 0x137dade10>"
      ]
     },
     "execution_count": 103,
     "metadata": {},
     "output_type": "execute_result"
    }
   ],
   "source": [
    "results_unique_score = results.groupby(['home_score', 'away_score'], as_index=False).size()\n",
    "seaborn.relplot(data= results_unique_score, x= 'home_score', y= 'away_score',size='size', sizes=(5,400), alpha= 0.5)"
   ]
  },
  {
   "cell_type": "markdown",
   "metadata": {},
   "source": [
    "### Descriptive statistics of your data"
   ]
  },
  {
   "cell_type": "code",
   "execution_count": 104,
   "metadata": {},
   "outputs": [
    {
     "data": {
      "text/html": [
       "<div>\n",
       "<style scoped>\n",
       "    .dataframe tbody tr th:only-of-type {\n",
       "        vertical-align: middle;\n",
       "    }\n",
       "\n",
       "    .dataframe tbody tr th {\n",
       "        vertical-align: top;\n",
       "    }\n",
       "\n",
       "    .dataframe thead th {\n",
       "        text-align: right;\n",
       "    }\n",
       "</style>\n",
       "<table border=\"1\" class=\"dataframe\">\n",
       "  <thead>\n",
       "    <tr style=\"text-align: right;\">\n",
       "      <th></th>\n",
       "      <th>home_score</th>\n",
       "      <th>away_score</th>\n",
       "      <th>total_score</th>\n",
       "    </tr>\n",
       "  </thead>\n",
       "  <tbody>\n",
       "    <tr>\n",
       "      <th>count</th>\n",
       "      <td>43919.000000</td>\n",
       "      <td>43919.000000</td>\n",
       "      <td>43919.000000</td>\n",
       "    </tr>\n",
       "    <tr>\n",
       "      <th>mean</th>\n",
       "      <td>1.741365</td>\n",
       "      <td>1.178920</td>\n",
       "      <td>2.920285</td>\n",
       "    </tr>\n",
       "    <tr>\n",
       "      <th>std</th>\n",
       "      <td>1.748843</td>\n",
       "      <td>1.395755</td>\n",
       "      <td>2.081746</td>\n",
       "    </tr>\n",
       "    <tr>\n",
       "      <th>min</th>\n",
       "      <td>0.000000</td>\n",
       "      <td>0.000000</td>\n",
       "      <td>0.000000</td>\n",
       "    </tr>\n",
       "    <tr>\n",
       "      <th>25%</th>\n",
       "      <td>1.000000</td>\n",
       "      <td>0.000000</td>\n",
       "      <td>1.000000</td>\n",
       "    </tr>\n",
       "    <tr>\n",
       "      <th>50%</th>\n",
       "      <td>1.000000</td>\n",
       "      <td>1.000000</td>\n",
       "      <td>3.000000</td>\n",
       "    </tr>\n",
       "    <tr>\n",
       "      <th>75%</th>\n",
       "      <td>2.000000</td>\n",
       "      <td>2.000000</td>\n",
       "      <td>4.000000</td>\n",
       "    </tr>\n",
       "    <tr>\n",
       "      <th>max</th>\n",
       "      <td>31.000000</td>\n",
       "      <td>21.000000</td>\n",
       "      <td>31.000000</td>\n",
       "    </tr>\n",
       "  </tbody>\n",
       "</table>\n",
       "</div>"
      ],
      "text/plain": [
       "         home_score    away_score   total_score\n",
       "count  43919.000000  43919.000000  43919.000000\n",
       "mean       1.741365      1.178920      2.920285\n",
       "std        1.748843      1.395755      2.081746\n",
       "min        0.000000      0.000000      0.000000\n",
       "25%        1.000000      0.000000      1.000000\n",
       "50%        1.000000      1.000000      3.000000\n",
       "75%        2.000000      2.000000      4.000000\n",
       "max       31.000000     21.000000     31.000000"
      ]
     },
     "execution_count": 104,
     "metadata": {},
     "output_type": "execute_result"
    }
   ],
   "source": [
    "results.describe()"
   ]
  },
  {
   "cell_type": "markdown",
   "metadata": {},
   "source": [
    "### Get an overview of the distribution of those variables, which are quantitative continuos"
   ]
  },
  {
   "cell_type": "code",
   "execution_count": 108,
   "metadata": {},
   "outputs": [
    {
     "data": {
      "text/plain": [
       "<seaborn.axisgrid.FacetGrid at 0x139636ad0>"
      ]
     },
     "execution_count": 108,
     "metadata": {},
     "output_type": "execute_result"
    }
   ],
   "source": [
    "seaborn.displot(data= results, x= \"home_score\", kde= True)"
   ]
  },
  {
   "cell_type": "code",
   "execution_count": 109,
   "metadata": {},
   "outputs": [
    {
     "data": {
      "text/plain": [
       "<seaborn.axisgrid.FacetGrid at 0x138e780a0>"
      ]
     },
     "execution_count": 109,
     "metadata": {},
     "output_type": "execute_result"
    }
   ],
   "source": [
    "seaborn.displot(data=results, x=\"away_score\", kde= True)"
   ]
  },
  {
   "cell_type": "code",
   "execution_count": 110,
   "metadata": {},
   "outputs": [
    {
     "data": {
      "text/plain": [
       "<seaborn.axisgrid.FacetGrid at 0x1396b54e0>"
      ]
     },
     "execution_count": 110,
     "metadata": {},
     "output_type": "execute_result"
    }
   ],
   "source": [
    "seaborn.displot(data= results, x= \"total_score\", kde= True)"
   ]
  }
 ],
 "metadata": {
  "kernelspec": {
   "display_name": "Python 3.10.6 64-bit",
   "language": "python",
   "name": "python3"
  },
  "language_info": {
   "codemirror_mode": {
    "name": "ipython",
    "version": 3
   },
   "file_extension": ".py",
   "mimetype": "text/x-python",
   "name": "python",
   "nbconvert_exporter": "python",
   "pygments_lexer": "ipython3",
   "version": "3.10.6"
  },
  "orig_nbformat": 4,
  "vscode": {
   "interpreter": {
    "hash": "aee8b7b246df8f9039afb4144a1f6fd8d2ca17a180786b69acc140d282b71a49"
   }
  }
 },
 "nbformat": 4,
 "nbformat_minor": 2
}
